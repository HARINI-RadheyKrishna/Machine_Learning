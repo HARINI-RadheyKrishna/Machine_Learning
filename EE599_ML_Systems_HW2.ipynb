{
  "cells": [
    {
      "cell_type": "markdown",
      "metadata": {
        "id": "view-in-github",
        "colab_type": "text"
      },
      "source": [
        "<a href=\"https://colab.research.google.com/github/HARINI-RadheyKrishna/Machine_Learning/blob/master/EE599_ML_Systems_HW2.ipynb\" target=\"_parent\"><img src=\"https://colab.research.google.com/assets/colab-badge.svg\" alt=\"Open In Colab\"/></a>"
      ]
    },
    {
      "cell_type": "markdown",
      "metadata": {
        "id": "nc3kdYUUlfGP"
      },
      "source": [
        "# HW2 EE599 Systems for Machine Learning, Fall 2023\n",
        "University of Southern California\n",
        "\n",
        "Instructors: Arash Saifhashemi, Murali Annavaram\n",
        "\n",
        "## Prerequisites:\n",
        "\n",
        "* Set the runtime type to GPU. (Runtime -> Change Runtime Type)"
      ]
    },
    {
      "cell_type": "markdown",
      "metadata": {
        "id": "zTvIwDlYvBzC"
      },
      "source": [
        "# Initial Setup\n",
        "\n",
        "This section imports all required packages from PyTorch.\n",
        "\n"
      ]
    },
    {
      "cell_type": "code",
      "execution_count": 1,
      "metadata": {
        "id": "hbiiMcdNJI--"
      },
      "outputs": [],
      "source": [
        "#%matplotlib inline\n",
        "import scipy.ndimage as ndi\n",
        "import numpy as np\n",
        "np.set_printoptions(suppress=True)\n",
        "import matplotlib.pyplot as plt\n",
        "import matplotlib.cm as cm\n",
        "grays=plt.get_cmap('gray')\n",
        "np.set_printoptions(precision=2)\n",
        "\n",
        "\n",
        "import torch\n",
        "import torchvision\n",
        "import torchvision.transforms as transforms\n",
        "import torch.nn as nn\n",
        "import torch.nn.functional as F\n",
        "import torch.optim as optim\n",
        "from torch.utils.data import DataLoader\n",
        "from copy import deepcopy\n",
        "\n",
        "\n",
        "import inspect\n",
        "import re\n",
        "import pprint"
      ]
    },
    {
      "cell_type": "markdown",
      "metadata": {
        "id": "15XifXfwrviU"
      },
      "source": [
        "## Mount Google Drive"
      ]
    },
    {
      "cell_type": "code",
      "execution_count": 30,
      "metadata": {
        "colab": {
          "base_uri": "https://localhost:8080/"
        },
        "id": "NKd_r1C-rucF",
        "outputId": "0b46d649-7fd9-4750-afc5-7b562cf5af0f"
      },
      "outputs": [
        {
          "output_type": "stream",
          "name": "stdout",
          "text": [
            "Drive already mounted at /content/drive; to attempt to forcibly remount, call drive.mount(\"/content/drive\", force_remount=True).\n"
          ]
        }
      ],
      "source": [
        "from google.colab import drive\n",
        "drive.mount('/content/drive')"
      ]
    },
    {
      "cell_type": "code",
      "execution_count": 34,
      "metadata": {
        "id": "fNR6HA1gsDT3"
      },
      "outputs": [],
      "source": [
        "import sys, os\n",
        "figures_dir = '/content/drive/MyDrive/UtilFolder/hw2_figures'\n",
        "weights_dir = '/content/drive/MyDrive/UtilFolder/weights'\n",
        "data_dir = '/content/drive/MyDrive/UtilFolder/data'"
      ]
    },
    {
      "cell_type": "markdown",
      "metadata": {
        "id": "FG3WW1Owq1Fh"
      },
      "source": [
        "**Reminder:** set the runtime type to \"GPU\", or your code will run much more slowly on a CPU."
      ]
    },
    {
      "cell_type": "code",
      "execution_count": 4,
      "metadata": {
        "id": "A3RF5VmcoUMG"
      },
      "outputs": [],
      "source": [
        "if torch.cuda.is_available():\n",
        "    device = torch.device('cuda')\n",
        "else:\n",
        "    device = torch.device('cpu')"
      ]
    },
    {
      "cell_type": "markdown",
      "metadata": {
        "id": "FjKQYob-hDrw"
      },
      "source": [
        "# Section 1: Convolution\n",
        "\n",
        "**Definition**:\n",
        "Convolution is a mathematical operation where a filter (or kernel) is applied over an input (e.g., image) to produce a modified output known as a feature map.\n",
        "\n",
        "**Key Components**:\n",
        "- **Kernel/Filter**: A small matrix that slides over the input. It captures patterns or features from the input.\n",
        "  \n",
        "- **Stride**: The number of pixels the filter moves at each step.\n",
        "  \n",
        "- **Padding**: Zeros added around the input's border, often used to control the output's spatial dimensions.\n",
        "\n",
        "**Operation**:\n",
        "The filter starts at the top-left corner of the image. For each position, values under the filter are multiplied with its corresponding filter values, then summed to produce a single pixel in the output. This process is repeated across the entire input.\n",
        "\n",
        "\n",
        "\n"
      ]
    },
    {
      "cell_type": "markdown",
      "metadata": {
        "id": "gOR3xVytYchU"
      },
      "source": [
        "## Create a sample image\n",
        "\n",
        "Create a 2D  `image` of shape `(10,10)` as a numpy-array. The signal values are 1 (white) in the `(4,4)`-center region and 0 (black) elsewhere.\n",
        "\n",
        "**TODO**: Plot the image as a grid with black or white colors and write the 0 or 1 value on each cell."
      ]
    },
    {
      "cell_type": "code",
      "execution_count": 6,
      "metadata": {
        "id": "lv5aiZYjhVMj"
      },
      "outputs": [],
      "source": [
        "    image = np.zeros((10,10))"
      ]
    },
    {
      "cell_type": "code",
      "execution_count": 7,
      "metadata": {
        "colab": {
          "base_uri": "https://localhost:8080/",
          "height": 444
        },
        "id": "HWt-4xoXhqb9",
        "outputId": "0b44ba28-8da9-4b54-e234-3599f06e8a49"
      },
      "outputs": [
        {
          "output_type": "display_data",
          "data": {
            "text/plain": [
              "<Figure size 500x500 with 1 Axes>"
            ],
            "image/png": "[encoded data removed]"
          },
          "metadata": {}
        }
      ],
      "source": [
        "def plot_image_with_values(image, title):\n",
        "    \"\"\"\n",
        "    Plots a 2D image with numeric values overlaid on each cell.\n",
        "\n",
        "    Parameters:\n",
        "    - image (2D numpy array): The image to be plotted.\n",
        "    - title (str): The title of the plot.\n",
        "    \"\"\"\n",
        "    image [3:7, 3:7] = 1\n",
        "\n",
        "    plt.figure(figsize=(5,5))\n",
        "\n",
        "    # Plot the image\n",
        "    plt.imshow(image, cmap='gray')\n",
        "    #plt.imshow(image, cmap='binary', interpolation='nearest')\n",
        "    # Looping through all cells to overlay the numeric values\n",
        "    for i in range(image.shape[0]):\n",
        "        for j in range(image.shape[1]):\n",
        "            pixel_value = image[i, j] #the value will either be '1' or '0'\n",
        "            text_color = 'white' if pixel_value < 0.5 else 'black'  # Setting text color based on pixel value\n",
        "            plt.text(j, i, f'{pixel_value:.2f}', ha='center', va='center', color=text_color) #prints the numericals in the middle of each box\n",
        "\n",
        "    plt.title(title)\n",
        "    plt.axis('off')\n",
        "    plt.show()\n",
        "\n",
        "\n",
        "plot_image_with_values(image, 'A sample image')\n"
      ]
    },
    {
      "cell_type": "markdown",
      "metadata": {
        "id": "xqQLUTPfi0JZ"
      },
      "source": [
        "## Create an Average Filter\n",
        "\n",
        "**TODO**: Create a 2-dimensional average filter of size 3x3.\n",
        "\n",
        "To create a 2-dimensional average filter (also known as a mean filter) of size 3x3, the filter should consist of equal values such that they sum up to 1. For a 3x3 filter, each value in the filter should be $\\frac{1}{9}$\n",
        "  since there are 9 values in total.\n",
        "\n",
        "- Use `conv2d` to colvolve this filter with `image`. Note that to do so, you have to convert the image from a numpy array to a tensor of appropriate size.\n",
        "- Plot the image as a grid with black or white colors and write the 0 or 1 value on each cell.\n",
        "- Explain the output."
      ]
    },
    {
      "cell_type": "code",
      "execution_count": 15,
      "metadata": {
        "colab": {
          "base_uri": "https://localhost:8080/",
          "height": 829
        },
        "id": "cVgk7qEuizVj",
        "outputId": "4bb1caca-265a-4092-fa29-7a35c16255a0"
      },
      "outputs": [
        {
          "output_type": "display_data",
          "data": {
            "text/plain": [
              "<Figure size 1000x1000 with 1 Axes>"
            ],
            "image/png": "[encoded data removed]"
          },
          "metadata": {}
        }
      ],
      "source": [
        "filter_size = 3\n",
        "filter_value = 1 / (filter_size * filter_size)\n",
        "filter = np.full((filter_size, filter_size), filter_value)\n",
        "\n",
        "#Converting the numpy arrays into tensors to apply the conv2d function\n",
        "filter_tensor = torch.tensor(filter)\n",
        "image_tensor = torch.tensor(image)\n",
        "\n",
        "#Applying the convolution function\n",
        "image_tensor = image_tensor.unsqueeze(0).unsqueeze(0)  # Add batch and channel dimensions\n",
        "filter_tensor = filter_tensor.unsqueeze(0).unsqueeze(0)  # Add batch and channel dimensions\n",
        "convolved_result = F.conv2d(image_tensor, filter_tensor)\n",
        "#print(convolved_result, convolved_result.shape)\n",
        "\n",
        "convolved_result = convolved_result.squeeze().numpy()\n",
        "\n",
        "plt.figure(figsize = (10,10))\n",
        "plt.imshow(convolved_result, cmap='gray')\n",
        "for i in range(convolved_result.shape[0]):\n",
        "    for j in range(convolved_result.shape[1]):\n",
        "        pixel_value1 = convolved_result[i, j]\n",
        "        text_color = 'white' if pixel_value1 < 0.5 else 'black'\n",
        "        plt.text(j, i, f'{pixel_value1:.2f}', ha='center', va='center', color=text_color)\n",
        "plt.title(\"Result of convolution\")\n",
        "plt.axis('off')\n",
        "plt.show()"
      ]
    },
    {
      "cell_type": "markdown",
      "source": [
        "Output explanation:\n",
        "\n",
        "    The output is the obtained after the image is convolved with the filter.\n",
        "    The color intensity of the result image is dependent upon the pixel value of each element in the matrix.\n",
        "    A 1.00 represents a white background and a black text whereas a 0.00 represents a black background with a white text.\n",
        "    The value obtained as the result of convolution is by performing a multiplication of the image over the filter value."
      ],
      "metadata": {
        "id": "Byo66dVZEp5W"
      }
    },
    {
      "cell_type": "markdown",
      "metadata": {
        "id": "a14_iJ0ZnZJi"
      },
      "source": [
        "## Edge Detection\n",
        "\n",
        "In image processing, edge detection refers to the process of identifying abrupt changes or discontinuities in an image. These abrupt changes often correspond to object boundaries, textures, or other significant features.\n",
        "\n",
        "The concept of **central differences** can be applied to images to detect edges by estimating the gradient magnitude at each pixel. In the context of images, the derivative approximations can highlight the areas of rapid intensity change, which are often the edges.\n",
        "\n",
        "\n",
        "Create a 3x2 2-dimensional filter, which calculates the gradient in x-direction (detecting vertical edges).\n",
        "\n",
        "Use of the concept of central differences. One possible filter for this purpose is:\n",
        "\n",
        "\\begin{bmatrix}\n",
        "-1 & 0 & 1 \\\\\n",
        "-1 & 0 & 1 \\\\\n",
        "-1 & 0 & 1 \\\\\n",
        "\\end{bmatrix}\n",
        "\n",
        "\n",
        "**Question** Why is convolving the image with this filter analogous to computing the partial derivatives of the image with respect to x?\n",
        "\n",
        "**TODO**: Create this filter and visualize it. Plot the filter as a grid with black or white colors and write the value of each cell on it.\n"
      ]
    },
    {
      "cell_type": "markdown",
      "source": [
        "Answer:\n",
        "\n",
        "When you convolve this filter with an image, you're essentially sliding it over the image pixel by pixel and performing a mathematical operation at each step. This operation involves multiplying the filter's values with the corresponding pixel values in the image and summing up the results.\n",
        "\n",
        "The central column (0, 0, 0) doesn't contribute to the result, while the left column (-1, -1, -1) and the right column (1, 1, 1) are used to calculate the difference between the pixel values on the left and right sides of the current pixel. This difference represents the rate of change of pixel values in the x-direction, which is essentially the partial derivative with respect to x.\n",
        "\n",
        "So, convolving the image with this filter effectively computes the gradient in the x-direction, which highlights areas of rapid intensity change, and these are often the edges in the image.\n",
        "\n"
      ],
      "metadata": {
        "id": "eIgRebV3ywKH"
      }
    },
    {
      "cell_type": "code",
      "execution_count": 10,
      "metadata": {
        "colab": {
          "base_uri": "https://localhost:8080/",
          "height": 213
        },
        "id": "yyx3gh-eoErn",
        "outputId": "0b701d6e-e456-439c-d31a-a06fbe9a19aa"
      },
      "outputs": [
        {
          "output_type": "display_data",
          "data": {
            "text/plain": [
              "<Figure size 200x200 with 1 Axes>"
            ],
            "image/png": "[encoded data removed]"
          },
          "metadata": {}
        }
      ],
      "source": [
        "edge_filter = np.array([[-1,0,1],[-1,0,1],[-1,0,1]])\n",
        "\n",
        "#print(edge_filter)\n",
        "\n",
        "#Visualization of the edge_filter\n",
        "plt.figure(figsize = (2,2))\n",
        "plt.imshow(edge_filter, cmap='gray')\n",
        "for i in range(edge_filter.shape[0]):\n",
        "    for j in range(edge_filter.shape[1]):\n",
        "        pixel_value2 = edge_filter[i, j]\n",
        "        text_color = 'white' if pixel_value2 < 0.5 else 'black'\n",
        "        plt.text(j, i, f'{pixel_value2:.2f}', ha='center', va='center', color=text_color)\n",
        "plt.title(\"Filter for edge detection\")\n",
        "plt.axis('off')\n",
        "plt.show()"
      ]
    },
    {
      "cell_type": "markdown",
      "metadata": {
        "id": "E89kE08so5QL"
      },
      "source": [
        "**TODO:** Apply this filter on the original image.\n",
        "\n",
        "Plot the image as a grid with black or white colors and write value of each cell on it."
      ]
    },
    {
      "cell_type": "code",
      "execution_count": 14,
      "metadata": {
        "colab": {
          "base_uri": "https://localhost:8080/",
          "height": 676
        },
        "id": "VVflGKC5o7jZ",
        "outputId": "b10e5c06-f7e7-401a-ee92-588242e39753"
      },
      "outputs": [
        {
          "output_type": "stream",
          "name": "stderr",
          "text": [
            "<ipython-input-14-e80d75ebaaf5>:8: UserWarning: To copy construct from a tensor, it is recommended to use sourceTensor.clone().detach() or sourceTensor.clone().detach().requires_grad_(True), rather than torch.tensor(sourceTensor).\n",
            "  edge_filter_tensor = torch.tensor(edge_filter)\n"
          ]
        },
        {
          "output_type": "display_data",
          "data": {
            "text/plain": [
              "<Figure size 800x800 with 1 Axes>"
            ],
            "image/png": "[encoded data removed]"
          },
          "metadata": {}
        }
      ],
      "source": [
        "# Define the edge detection filter\n",
        "edge_filter = torch.tensor([[-1, 1], [-1, 1], [-1, 1]], dtype=torch.float32)\n",
        "\n",
        "# Initialize the image as a 10x10 numpy array filled with zeros\n",
        "image = np.zeros((10, 10))\n",
        "image [3:7, 3:7] = 1\n",
        "image_tensor = torch.tensor(image, dtype=torch.float32)\n",
        "edge_filter_tensor = torch.tensor(edge_filter)\n",
        "\n",
        "# Add batch and channel dimensions\n",
        "image_tensor = image_tensor.unsqueeze(0).unsqueeze(0)\n",
        "edge_filter_tensor = edge_filter_tensor.unsqueeze(0).unsqueeze(0)\n",
        "\n",
        "# Apply convolution with padding\n",
        "convolved_result2 = F.conv2d(image_tensor, edge_filter_tensor, padding=1)\n",
        "convolved_result2 = convolved_result2.squeeze().numpy()\n",
        "\n",
        "\n",
        "# Plot the image with values\n",
        "def plot_image_with_values(image, title):\n",
        "    plt.figure(figsize=(8, 8))\n",
        "    plt.imshow(image, cmap='gray')\n",
        "    for i in range(image.shape[0]):\n",
        "        for j in range(image.shape[1]):\n",
        "            pixel_value1 = image[i, j]\n",
        "            text_color = 'white' if pixel_value1 < 0.5 else 'black'\n",
        "            plt.text(j, i, f'{pixel_value1:.2f}', ha='center', va='center', color=text_color)\n",
        "    plt.title(title)\n",
        "    plt.axis('off')\n",
        "    plt.show()\n",
        "\n",
        "# Plot the convolved result\n",
        "plot_image_with_values(convolved_result2, 'Edge Detection Result')"
      ]
    },
    {
      "cell_type": "markdown",
      "metadata": {
        "id": "MbxxvlRdp20x"
      },
      "source": [
        "### Horizontal Edge\n",
        "TODO:\n",
        "Create a similar filter to detect horizontal edges."
      ]
    },
    {
      "cell_type": "code",
      "execution_count": 21,
      "metadata": {
        "colab": {
          "base_uri": "https://localhost:8080/",
          "height": 729
        },
        "id": "ZAydg700qLsw",
        "outputId": "2b6ba5eb-27f5-441b-bf69-e221e24b2450"
      },
      "outputs": [
        {
          "output_type": "stream",
          "name": "stderr",
          "text": [
            "<ipython-input-21-90b984612666>:8: UserWarning: To copy construct from a tensor, it is recommended to use sourceTensor.clone().detach() or sourceTensor.clone().detach().requires_grad_(True), rather than torch.tensor(sourceTensor).\n",
            "  hedge_filter_tensor = torch.tensor(hedge_filter)\n"
          ]
        },
        {
          "output_type": "display_data",
          "data": {
            "text/plain": [
              "<Figure size 800x800 with 1 Axes>"
            ],
            "image/png": "[encoded data removed]"
          },
          "metadata": {}
        }
      ],
      "source": [
        "# Define the edge detection filter\n",
        "hedge_filter = torch.tensor([[-1, -1], [1, 1]], dtype=torch.float32)\n",
        "\n",
        "# Initialize the image as a 10x10 numpy array filled with zeros\n",
        "image = np.zeros((10, 10))\n",
        "image [3:7, 3:7] = 1\n",
        "image_tensor = torch.tensor(image, dtype=torch.float32)\n",
        "hedge_filter_tensor = torch.tensor(hedge_filter)\n",
        "\n",
        "# Add batch and channel dimensions\n",
        "image_tensor = image_tensor.unsqueeze(0).unsqueeze(0)\n",
        "hedge_filter_tensor = hedge_filter_tensor.unsqueeze(0).unsqueeze(0)\n",
        "\n",
        "# Apply convolution with padding\n",
        "convolved_result3 = F.conv2d(image_tensor, hedge_filter_tensor, padding=1)\n",
        "convolved_result3 = convolved_result3.squeeze().numpy()\n",
        "\n",
        "\n",
        "# Plot the image with values\n",
        "def plot_image_with_values(image, title):\n",
        "    plt.figure(figsize=(8, 8))\n",
        "    plt.imshow(image, cmap='gray')\n",
        "    for i in range(image.shape[0]):\n",
        "        for j in range(image.shape[1]):\n",
        "            pixel_value1 = image[i, j]\n",
        "            text_color = 'white' if pixel_value1 < 0.5 else 'black'\n",
        "            plt.text(j, i, f'{pixel_value1:.2f}', ha='center', va='center', color=text_color)\n",
        "    plt.title(title)\n",
        "    plt.axis('off')\n",
        "    plt.show()\n",
        "\n",
        "# Plot the convolved result\n",
        "plot_image_with_values(convolved_result3, 'Edge Detection Result')"
      ]
    },
    {
      "cell_type": "markdown",
      "metadata": {
        "id": "Kle9PjhE8wXY"
      },
      "source": [
        "### Laplacian Sharpening\n",
        "Lapalacian filters can increase the regions of the image with rapid intensity. It is very helpful in hding the fine details of images. Any features with a sharp discontunioty will be enhanced.\n",
        "\n",
        "One of the Laplacian filter is\n",
        "\n",
        "\\begin{bmatrix}\n",
        " 0 & -1 &  0 \\\\\n",
        "-1 &  4 & -1 \\\\\n",
        " 0 & -1 &  0 \\\\\n",
        "\\end{bmatrix}\n",
        "\n",
        "To sharpen an image ```img```:\n",
        "\n",
        "1. use the Laplacian filter to convolve the original image to obtained a filter.\n",
        "2. scale the filter into the range of the oringal image.\n",
        "3. add the filter to the original image.\n",
        "4. scale the summation to the range of the original image.\n",
        "\n",
        "\n",
        "TODO: Create this filter and visualize it. Plot the filter as a grid with black or white colors and write the value of each cell on it."
      ]
    },
    {
      "cell_type": "code",
      "execution_count": 23,
      "metadata": {
        "id": "VHwADQcH9ZiA",
        "colab": {
          "base_uri": "https://localhost:8080/",
          "height": 729
        },
        "outputId": "9ad454b3-db38-4415-bcbf-9eefc64c057d"
      },
      "outputs": [
        {
          "output_type": "stream",
          "name": "stderr",
          "text": [
            "<ipython-input-23-d0b2a3649086>:7: UserWarning: To copy construct from a tensor, it is recommended to use sourceTensor.clone().detach() or sourceTensor.clone().detach().requires_grad_(True), rather than torch.tensor(sourceTensor).\n",
            "  filter_laplacian_tensor = torch.tensor(filter_laplacian)\n"
          ]
        },
        {
          "output_type": "display_data",
          "data": {
            "text/plain": [
              "<Figure size 800x800 with 1 Axes>"
            ],
            "image/png": "[encoded data removed]"
          },
          "metadata": {}
        }
      ],
      "source": [
        "filter_laplacian = torch.tensor ([[0,-1, 0], [-1, 4, -1], [0, -1, 0]], dtype = torch.float32)"
      ]
    },
    {
      "cell_type": "markdown",
      "metadata": {
        "id": "gTgdF9z9--ox"
      },
      "source": [
        "TODO: Apply this filter on the original image.\n",
        "\n",
        "Plot the image as a grid with black or white colors and write value of each cell on it."
      ]
    },
    {
      "cell_type": "code",
      "execution_count": 24,
      "metadata": {
        "id": "Sbr-naJ3-sXC",
        "colab": {
          "base_uri": "https://localhost:8080/",
          "height": 729
        },
        "outputId": "5d897b17-0c17-4bd6-c0d9-e42b7a751442"
      },
      "outputs": [
        {
          "output_type": "stream",
          "name": "stderr",
          "text": [
            "<ipython-input-24-8c3589ebb1a5>:5: UserWarning: To copy construct from a tensor, it is recommended to use sourceTensor.clone().detach() or sourceTensor.clone().detach().requires_grad_(True), rather than torch.tensor(sourceTensor).\n",
            "  filter_laplacian_tensor = torch.tensor(filter_laplacian)\n"
          ]
        },
        {
          "output_type": "display_data",
          "data": {
            "text/plain": [
              "<Figure size 800x800 with 1 Axes>"
            ],
            "image/png": "[encoded data removed]"
          },
          "metadata": {}
        }
      ],
      "source": [
        "# Initialize the image as a 10x10 numpy array filled with zeros\n",
        "image = np.zeros((10, 10))\n",
        "image [3:7, 3:7] = 1\n",
        "image_tensor = torch.tensor(image, dtype=torch.float32)\n",
        "filter_laplacian_tensor = torch.tensor(filter_laplacian)\n",
        "\n",
        "# Add batch and channel dimensions\n",
        "image_tensor = image_tensor.unsqueeze(0).unsqueeze(0)\n",
        "filter_laplacian_tensor = filter_laplacian_tensor.unsqueeze(0).unsqueeze(0)\n",
        "\n",
        "# Apply convolution with padding\n",
        "Laplacian_result = F.conv2d(image_tensor, filter_laplacian_tensor, padding=1)\n",
        "Laplacian_result = Laplacian_result.squeeze().numpy()\n",
        "\n",
        "# Plot the image with values\n",
        "def plot_image_with_values(image, title):\n",
        "    plt.figure(figsize=(8, 8))\n",
        "    plt.imshow(image, cmap='gray')\n",
        "    for i in range(image.shape[0]):\n",
        "        for j in range(image.shape[1]):\n",
        "            pixel_value1 = image[i, j]\n",
        "            text_color = 'white' if pixel_value1 < 0.5 else 'black'\n",
        "            plt.text(j, i, f'{pixel_value1:.2f}', ha='center', va='center', color=text_color)\n",
        "    plt.title(title)\n",
        "    plt.axis('off')\n",
        "    plt.show()\n",
        "\n",
        "# Plot the convolved result\n",
        "plot_image_with_values(Laplacian_result, 'Edge Detection Result')"
      ]
    },
    {
      "cell_type": "markdown",
      "metadata": {
        "id": "vcXeVjszchQz"
      },
      "source": [
        "## Applying Filters on an Image\n",
        "\n",
        "In this section we apply several filters on a real image.\n",
        "\n",
        "**TODO**\n",
        "Use `PIL` library to read the attached image called `cars-1638594_1280.jpg` as a numpy array. Convert that image to grayscale so that it only has a single channel and plot the image."
      ]
    },
    {
      "cell_type": "code",
      "source": [
        "from PIL import Image\n",
        "\n",
        "# Specify the file path\n",
        "file_path = 'data_dir/cars-1638594_1280.jpg'\n",
        "\n",
        "# Check if the file exists\n",
        "if os.path.isfile(file_path):\n",
        "    print(f'The file at {file_path} exists.')\n",
        "else:\n",
        "    print(f'The file at {file_path} does not exist.')\n"
      ],
      "metadata": {
        "colab": {
          "base_uri": "https://localhost:8080/"
        },
        "id": "BFdmdyVj5wix",
        "outputId": "9054474b-c8fe-4b54-95f5-d526f0b36e88"
      },
      "execution_count": 37,
      "outputs": [
        {
          "output_type": "stream",
          "name": "stdout",
          "text": [
            "The file at data_dir/cars-1638594_1280.jpg does not exist.\n"
          ]
        }
      ]
    },
    {
      "cell_type": "code",
      "execution_count": 40,
      "metadata": {
        "id": "1dPoNC39r8zS",
        "colab": {
          "base_uri": "https://localhost:8080/",
          "height": 361
        },
        "outputId": "6345e1cd-cdf8-4848-d882-b465f3a69ee7"
      },
      "outputs": [
        {
          "output_type": "error",
          "ename": "FileNotFoundError",
          "evalue": "ignored",
          "traceback": [
            "\u001b[0;31m---------------------------------------------------------------------------\u001b[0m",
            "\u001b[0;31mFileNotFoundError\u001b[0m                         Traceback (most recent call last)",
            "\u001b[0;32m<ipython-input-40-25632258fcba>\u001b[0m in \u001b[0;36m<cell line: 4>\u001b[0;34m()\u001b[0m\n\u001b[1;32m      2\u001b[0m \u001b[0;34m\u001b[0m\u001b[0m\n\u001b[1;32m      3\u001b[0m \u001b[0mimage_path\u001b[0m \u001b[0;34m=\u001b[0m \u001b[0mos\u001b[0m\u001b[0;34m.\u001b[0m\u001b[0mpath\u001b[0m\u001b[0;34m.\u001b[0m\u001b[0mjoin\u001b[0m\u001b[0;34m(\u001b[0m\u001b[0mfigures_dir\u001b[0m\u001b[0;34m,\u001b[0m \u001b[0;34m'cars-1638594_1280.jpg'\u001b[0m\u001b[0;34m)\u001b[0m\u001b[0;34m\u001b[0m\u001b[0;34m\u001b[0m\u001b[0m\n\u001b[0;32m----> 4\u001b[0;31m \u001b[0mimage\u001b[0m \u001b[0;34m=\u001b[0m \u001b[0mImage\u001b[0m\u001b[0;34m.\u001b[0m\u001b[0mopen\u001b[0m\u001b[0;34m(\u001b[0m\u001b[0mimage_path\u001b[0m\u001b[0;34m)\u001b[0m\u001b[0;34m\u001b[0m\u001b[0;34m\u001b[0m\u001b[0m\n\u001b[0m\u001b[1;32m      5\u001b[0m \u001b[0;34m\u001b[0m\u001b[0m\n\u001b[1;32m      6\u001b[0m \u001b[0;31m#Applying the graycscale to the image\u001b[0m\u001b[0;34m\u001b[0m\u001b[0;34m\u001b[0m\u001b[0m\n",
            "\u001b[0;32m/usr/local/lib/python3.10/dist-packages/PIL/Image.py\u001b[0m in \u001b[0;36mopen\u001b[0;34m(fp, mode, formats)\u001b[0m\n\u001b[1;32m   3225\u001b[0m \u001b[0;34m\u001b[0m\u001b[0m\n\u001b[1;32m   3226\u001b[0m     \u001b[0;32mif\u001b[0m \u001b[0mfilename\u001b[0m\u001b[0;34m:\u001b[0m\u001b[0;34m\u001b[0m\u001b[0;34m\u001b[0m\u001b[0m\n\u001b[0;32m-> 3227\u001b[0;31m         \u001b[0mfp\u001b[0m \u001b[0;34m=\u001b[0m \u001b[0mbuiltins\u001b[0m\u001b[0;34m.\u001b[0m\u001b[0mopen\u001b[0m\u001b[0;34m(\u001b[0m\u001b[0mfilename\u001b[0m\u001b[0;34m,\u001b[0m \u001b[0;34m\"rb\"\u001b[0m\u001b[0;34m)\u001b[0m\u001b[0;34m\u001b[0m\u001b[0;34m\u001b[0m\u001b[0m\n\u001b[0m\u001b[1;32m   3228\u001b[0m         \u001b[0mexclusive_fp\u001b[0m \u001b[0;34m=\u001b[0m \u001b[0;32mTrue\u001b[0m\u001b[0;34m\u001b[0m\u001b[0;34m\u001b[0m\u001b[0m\n\u001b[1;32m   3229\u001b[0m \u001b[0;34m\u001b[0m\u001b[0m\n",
            "\u001b[0;31mFileNotFoundError\u001b[0m: [Errno 2] No such file or directory: '/content/drive/MyDrive/UtilFolder/hw2_figures/cars-1638594_1280.jpg'"
          ]
        }
      ],
      "source": [
        "from PIL import Image\n",
        "\n",
        "image_path = os.path.join(figures_dir, 'cars-1638594_1280.jpg')\n",
        "image = Image.open(image_path)\n",
        "\n",
        "#Applying the graycscale to the image\n",
        "gray_image = image.convert('L')\n",
        "\n",
        "image_np = np.array(image) #converting the image from a PIL format to a numpy array format\n",
        "\n",
        "plt.imshow(image_np, cmap='gray')\n",
        "plt.axis('off')\n",
        "plt.title('Grayscale image')\n",
        "plt.show()"
      ]
    },
    {
      "cell_type": "markdown",
      "metadata": {
        "id": "pcRb4WApdJHt"
      },
      "source": [
        "**TODO**:\n",
        "Apply the vertical edge detection to the image and plot both original and converted image."
      ]
    },
    {
      "cell_type": "code",
      "execution_count": 41,
      "metadata": {
        "id": "wO9S-oDotMvD",
        "colab": {
          "base_uri": "https://localhost:8080/",
          "height": 242
        },
        "outputId": "103ef60b-37ee-40bb-85ca-bfdcde18eeab"
      },
      "outputs": [
        {
          "output_type": "error",
          "ename": "NameError",
          "evalue": "ignored",
          "traceback": [
            "\u001b[0;31m---------------------------------------------------------------------------\u001b[0m",
            "\u001b[0;31mNameError\u001b[0m                                 Traceback (most recent call last)",
            "\u001b[0;32m<ipython-input-41-aefd934b8b95>\u001b[0m in \u001b[0;36m<cell line: 1>\u001b[0;34m()\u001b[0m\n\u001b[0;32m----> 1\u001b[0;31m \u001b[0mimage_tensor\u001b[0m \u001b[0;34m=\u001b[0m \u001b[0mtorch\u001b[0m\u001b[0;34m.\u001b[0m\u001b[0mtensor\u001b[0m\u001b[0;34m(\u001b[0m\u001b[0mimage_np\u001b[0m\u001b[0;34m,\u001b[0m \u001b[0mdtype\u001b[0m\u001b[0;34m=\u001b[0m\u001b[0mtorch\u001b[0m\u001b[0;34m.\u001b[0m\u001b[0mfloat32\u001b[0m\u001b[0;34m)\u001b[0m\u001b[0;34m\u001b[0m\u001b[0;34m\u001b[0m\u001b[0m\n\u001b[0m\u001b[1;32m      2\u001b[0m \u001b[0mfilter_laplacian_tensor\u001b[0m \u001b[0;34m=\u001b[0m \u001b[0mtorch\u001b[0m\u001b[0;34m.\u001b[0m\u001b[0mtensor\u001b[0m\u001b[0;34m(\u001b[0m\u001b[0mfilter_laplacian\u001b[0m\u001b[0;34m)\u001b[0m\u001b[0;34m\u001b[0m\u001b[0;34m\u001b[0m\u001b[0m\n\u001b[1;32m      3\u001b[0m \u001b[0;34m\u001b[0m\u001b[0m\n\u001b[1;32m      4\u001b[0m \u001b[0;31m# Add batch and channel dimensions\u001b[0m\u001b[0;34m\u001b[0m\u001b[0;34m\u001b[0m\u001b[0m\n\u001b[1;32m      5\u001b[0m \u001b[0mimage_tensor\u001b[0m \u001b[0;34m=\u001b[0m \u001b[0mimage_tensor\u001b[0m\u001b[0;34m.\u001b[0m\u001b[0munsqueeze\u001b[0m\u001b[0;34m(\u001b[0m\u001b[0;36m0\u001b[0m\u001b[0;34m)\u001b[0m\u001b[0;34m.\u001b[0m\u001b[0munsqueeze\u001b[0m\u001b[0;34m(\u001b[0m\u001b[0;36m0\u001b[0m\u001b[0;34m)\u001b[0m\u001b[0;34m\u001b[0m\u001b[0;34m\u001b[0m\u001b[0m\n",
            "\u001b[0;31mNameError\u001b[0m: name 'image_np' is not defined"
          ]
        }
      ],
      "source": [
        "filter_laplacian = torch.tensor([])\n",
        "image_original_tensor = torch.tensor(image, dtype=torch.float32)\n",
        "image_tensor = torch.tensor(image_np, dtype=torch.float32)\n",
        "filter_laplacian_tensor = torch.tensor(filter_laplacian)\n",
        "\n",
        "# Add batch and channel dimensions\n",
        "image_tensor = image_original_tensor.unsqueeze(0).unsqueeze(0)\n",
        "image_tensor = image_tensor.unsqueeze(0).unsqueeze(0)\n",
        "filter_laplacian_tensor = filter_laplacian_tensor.unsqueeze(0).unsqueeze(0)\n",
        "\n",
        "# Apply convolution with padding\n",
        "#original image\n",
        "Laplacian_result_original = F.conv2d(image_original_tensor, filter_laplacian_tensor, padding=1)\n",
        "Laplacian_result_original = Laplacian_result_original.squeeze().numpy()\n",
        "\n",
        "#Grayscale image\n",
        "Laplacian_result = F.conv2d(image_tensor, filter_laplacian_tensor, padding=1)\n",
        "Laplacian_result = Laplacian_result.squeeze().numpy()\n",
        "\n",
        "# Plot the image with values\n",
        "def plot_image_with_values(image, title):\n",
        "    plt.figure(figsize=(8, 8))\n",
        "    plt.imshow(image, cmap='gray')\n",
        "    for i in range(image.shape[0]):\n",
        "        for j in range(image.shape[1]):\n",
        "            pixel_value1 = image[i, j]\n",
        "            text_color = 'white' if pixel_value1 < 0.5 else 'black'\n",
        "            plt.text(j, i, f'{pixel_value1:.2f}', ha='center', va='center', color=text_color)\n",
        "    plt.title(title)\n",
        "    plt.axis('off')\n",
        "    plt.show()\n",
        "\n",
        "# Plot the convolved result\n",
        "plot_image_with_values(Laplacian_result, 'Vertical Edge Detection Result for Converted Image')\n",
        "plot_image_with_values(Laplacian_result_original, 'Vertical Edge Detection Result for Original Image')"
      ]
    },
    {
      "cell_type": "markdown",
      "metadata": {
        "id": "LbCgGFpudPyA"
      },
      "source": [
        "**TODO**:\n",
        "Apply the horizontal edge detection to the image and plot both original and converted image.\n",
        "\n",
        "\n"
      ]
    },
    {
      "cell_type": "code",
      "execution_count": null,
      "metadata": {
        "id": "hsL3jjKXuCIz"
      },
      "outputs": [],
      "source": [
        "filter_laplacian = torch.tensor([])\n",
        "image_original_tensor = torch.tensor(image, dtype=torch.float32)\n",
        "image_tensor = torch.tensor(image_np, dtype=torch.float32)\n",
        "filter_laplacian_tensor = torch.tensor(filter_laplacian)\n",
        "\n",
        "# Add batch and channel dimensions\n",
        "image_tensor = image_original_tensor.unsqueeze(0).unsqueeze(0)\n",
        "image_tensor = image_tensor.unsqueeze(0).unsqueeze(0)\n",
        "filter_laplacian_tensor = filter_laplacian_tensor.unsqueeze(0).unsqueeze(0)\n",
        "\n",
        "# Apply convolution with padding\n",
        "#original image\n",
        "Laplacian_result_original = F.conv2d(image_original_tensor, filter_laplacian_tensor, padding=1)\n",
        "Laplacian_result_original = Laplacian_result_original.squeeze().numpy()\n",
        "\n",
        "#Grayscale image\n",
        "Laplacian_result = F.conv2d(image_tensor, filter_laplacian_tensor, padding=1)\n",
        "Laplacian_result = Laplacian_result.squeeze().numpy()\n",
        "\n",
        "# Plot the image with values\n",
        "def plot_image_with_values(image, title):\n",
        "    plt.figure(figsize=(8, 8))\n",
        "    plt.imshow(image, cmap='gray')\n",
        "    for i in range(image.shape[0]):\n",
        "        for j in range(image.shape[1]):\n",
        "            pixel_value1 = image[i, j]\n",
        "            text_color = 'white' if pixel_value1 < 0.5 else 'black'\n",
        "            plt.text(j, i, f'{pixel_value1:.2f}', ha='center', va='center', color=text_color)\n",
        "    plt.title(title)\n",
        "    plt.axis('off')\n",
        "    plt.show()\n",
        "\n",
        "# Plot the convolved result\n",
        "plot_image_with_values(Laplacian_result, 'Vertical Edge Detection Result for Converted Image')\n",
        "plot_image_with_values(Laplacian_result_original, 'Vertical Edge Detection Result for Original Image')"
      ]
    },
    {
      "cell_type": "markdown",
      "metadata": {
        "id": "UXOXAXCU_Skn"
      },
      "source": [
        "**TODO**:\n",
        "Apply the sharpening to the image and plot both original and converted image.\n",
        "\n",
        "\n"
      ]
    },
    {
      "cell_type": "code",
      "execution_count": null,
      "metadata": {
        "id": "knmKRg_X_NTp"
      },
      "outputs": [],
      "source": []
    },
    {
      "cell_type": "markdown",
      "metadata": {
        "id": "mhB85-1NNfGP"
      },
      "source": [
        "### Bluring the image with the Gaussian filter\n",
        "\n",
        "One commonly used filter for blurring is the Gaussian filter. Its values are determined by the Gaussian function, which results in a bell-shaped curve.\n",
        "\n",
        "A Gaussian filter tends to give more weight to the central pixels and gradually decreasing weight as one moves to the periphery, unlike the uniform averaging filter we discussed earlier.\n",
        "\n",
        "**TODO**:\n",
        "Create a 5x5 Gaussian blur filter with these values:\n",
        "\n",
        "\\begin{bmatrix}\n",
        "1 & 4 & 6 & 4 & 1 \\\\\n",
        "4 & 16 & 24 & 16 & 4 \\\\\n",
        "6 & 24 & 36 & 24 & 6 \\\\\n",
        "4 & 16 & 24 & 16 & 4 \\\\\n",
        "1 & 4 & 6 & 4 & 1 \\\\\n",
        "\\end{bmatrix}\n",
        "\n",
        "Apply the filter to the image and plot both original and converted image.\n"
      ]
    },
    {
      "cell_type": "code",
      "execution_count": null,
      "metadata": {
        "id": "lKodFHxQNtaI"
      },
      "outputs": [],
      "source": []
    },
    {
      "cell_type": "markdown",
      "metadata": {
        "id": "allKLfTvSHmv"
      },
      "source": [
        "## Pooling\n",
        "\n",
        "Pooling is an operation frequently used in the context of Convolutional Neural Networks (CNNs) for image processing. The main idea behind pooling is to reduce the spatial size of the representation, thereby reducing the number of parameters and computational complexity in the network. This helps in making the network less prone to overfitting and also reduces computation time.\n",
        "\n",
        "There are several types of pooling operations, with the most common ones being:\n",
        "\n",
        "**Max Pooling**: In this method, for each segment of the input, the maximum value is selected. For instance, if we consider a 2x2 pooling window (often called a \"kernel\" in this context) and slide it over an image tensor, the largest value within each 2x2 window will be selected for the pooled output.\n",
        "\n",
        "- **Average Pooling**: Instead of taking the maximum value in each window, average pooling takes the average value. So for a 2x2 window, it would take the average of all 4 values in that window.\n",
        "- **Min Pooling**: This operation selects the minimum value from each window, though it's less commonly used than max or average pooling.\n",
        "- **Global Pooling**: Instead of using a fixed size window, global pooling operates over the entire height and width of the feature map, effectively transforming the spatial dimensions of the feature map to 1x1 (retaining the depth/channels).\n",
        "\n",
        "The main benefits of pooling include:\n",
        "\n",
        "- **Dimensionality Reduction**: It reduces the spatial dimensions of the feature maps, which in turn reduces the number of parameters in subsequent layers, leading to faster computations.\n",
        "- **Invariance to Small Translations**: Small translations in the input image might not lead to significant changes in the pooled feature map. This can be particularly useful when the exact location of features is less relevant than their presence.\n",
        "- **Prevents Overfitting**: By reducing the spatial resolution and thus the total number of parameters, pooling can help prevent overfitting.\n"
      ]
    },
    {
      "cell_type": "markdown",
      "metadata": {
        "id": "JL0GQXY6UYSp"
      },
      "source": [
        "### Max Pooling:\n",
        "Create a Max Pooling filter of size 8 with stride 2 and run it on the original image.\n",
        "\n",
        "**TODO:** Explain the output and its shape dimensions."
      ]
    },
    {
      "cell_type": "code",
      "execution_count": null,
      "metadata": {
        "id": "rBmFUrJQR8Yf"
      },
      "outputs": [],
      "source": []
    },
    {
      "cell_type": "markdown",
      "metadata": {
        "id": "mKgFIc4bW4_y"
      },
      "source": [
        "### Average Pooling:\n",
        "Create an average pooling filter of size 8 with stride 2 and run it on the original image.\n",
        "\n",
        "**TODO:** Explain the output and its shape dimensions."
      ]
    },
    {
      "cell_type": "code",
      "execution_count": null,
      "metadata": {
        "id": "FSZunSLCWXca"
      },
      "outputs": [],
      "source": []
    },
    {
      "cell_type": "markdown",
      "metadata": {
        "id": "nCaMDWYArEXO"
      },
      "source": [
        "# Section 2: Convolutional Neural Networks\n",
        "\n",
        "The construction of neural networks is facilitated through the utilization of the ``torch.nn`` package within the PyTorch framework.\n",
        "\n",
        "A standard process for training a neural network involves the following steps:\n",
        "\n",
        "1. **Neural Network Definition:** The first step entails defining the architecture of the neural network, which encompasses the design of its interconnected layers and the inclusion of learnable parameters, often referred to as weights.\n",
        "\n",
        "2. **Iterative Data Processing:** Next, the training procedure involves iterating through a dataset containing input samples. Each input is fed into the neural network for processing.\n",
        "\n",
        "3. **Forward Propagation:** During this phase, the input data is passed through the neural network's layers, activating its neurons through weighted connections and producing an output prediction.\n",
        "\n",
        "4. **Loss Computation:** The output generated by the network is then compared to the actual desired output, leading to the computation of a loss value. This loss signifies the discrepancy between the predicted outcome and the true value.\n",
        "\n",
        "5. **Backpropagation:** After calculating the loss, the gradients of the loss with respect to the network's parameters are computed through a process called backpropagation. This entails tracing how changes in the parameters affect the loss.\n",
        "\n",
        "6. **Gradient Update:** The gradients computed during backpropagation are used to adjust the network's weights. A common method involves updating the weights by subtracting a scaled gradient value from the current weights. The scale factor, known as the learning rate, determines the step size of the update. This update rule can be expressed as: ``weight = weight - learning_rate * gradient``.\n",
        "\n",
        "Throughout this iterative process, the neural network's parameters are fine-tuned to minimize the loss and enhance its predictive accuracy. This sequence of steps forms the backbone of training neural networks, enabling them to learn and improve their performance over time.\n",
        "\n",
        "In this assignment we will create a simple CNN.\n",
        "\n",
        "\n",
        "To begin this section, we will load the CIFAR10 dataset and train a simple convolutional neural network (CNN) to classify the images.\n",
        "\n",
        "The CIFAR10 dataset has the classes:\n",
        "\n",
        "* `airplane`\n",
        "* `automobile`\n",
        "* `bird`\n",
        "* `cat`\n",
        "* `deer`\n",
        "* `dog`\n",
        "* `frog`\n",
        "* `horse`\n",
        "* `ship`\n",
        "* `truck`\n",
        "\n",
        "The images in CIFAR-10 are of size:\n",
        "\n",
        "* `3x32x32`\n",
        "\n",
        "i.e. 3-channel color images of `32x32` pixels in size.\n",
        "\n",
        "To load the data, we use a package called\n",
        "``torchvision``, that has data loaders for common datasets such as\n",
        "ImageNet, CIFAR10, MNIST, etc. and data transformers for images, namely,\n",
        "``torchvision.datasets`` and ``torch.utils.data.DataLoader``.\n",
        "\n",
        "\n",
        "In the following code, we perform the following:\n",
        "\n",
        "* Define a batch size for processing multiple images in each iteration.\n",
        "* Create a series of transformations to be applied to the images in the dataset: converting images to tensors and normalizing the pixel values.\n",
        "* Load the CIFAR10 **training** and **test** datasets, specifying the root directory, training mode, and transformations.\n",
        "* Construct a DataLoader for the **training** and **test** datasets with batch processing, shuffling, and parallel data loading.\n",
        "\n",
        "TODO: Complete the next code block."
      ]
    },
    {
      "cell_type": "code",
      "execution_count": null,
      "metadata": {
        "id": "_5UuOjjrnogR"
      },
      "outputs": [],
      "source": [
        "# Set the batch size for data processing\n",
        "batch_size = 4\n",
        "\n",
        "# Define the mean values and standard deviation values for normalization\n",
        "mean_values = (0.5, 0.5, 0.5)  # Mean values for red, green, and blue channels\n",
        "std_values = (0.5, 0.5, 0.5)   # Standard deviation values for red, green, and blue channels\n",
        "\n",
        "# Define the transformation pipeline\n",
        "\n",
        "# Load the CIFAR10 training dataset and apply the defined transformations\n",
        "\n",
        "\n",
        "# Create a DataLoader to efficiently load and process training data in batches\n",
        "\n",
        "\n",
        "# Load the CIFAR10 test dataset and apply the same transformations as for training\n",
        "\n",
        "\n",
        "# Create a DataLoader for test data\n",
        "\n",
        "# classes\n",
        "classes = ('plane', 'car', 'bird', 'cat',\n",
        "           'deer', 'dog', 'frog', 'horse', 'ship', 'truck')"
      ]
    },
    {
      "cell_type": "markdown",
      "metadata": {
        "id": "4LMb7NPmiNfo"
      },
      "source": [
        "Let's view some of the images."
      ]
    },
    {
      "cell_type": "code",
      "execution_count": null,
      "metadata": {
        "id": "01HjHP7EiQDq"
      },
      "outputs": [],
      "source": [
        "\n",
        "# Define a function to display images\n",
        "def imshow(img):\n",
        "    # Unnormalize the image\n",
        "    # The normalization was done using this formula:\n",
        "    # img_norm = (img - mean) / std\n",
        "    # So we unnormalize as follows:\n",
        "    img = img * 0.5 + 0.5\n",
        "\n",
        "    npimg = img.numpy()\n",
        "\n",
        "\n",
        "    #The image array is typically stored in the order [height, width, channels],\n",
        "    #but the plt.imshow function expects the image array to be stored in the\n",
        "    #order [channels, width, height].\n",
        "    #The np.transpose function transposes the image array,\n",
        "    #so that it is stored in the correct order.\n",
        "    plt.imshow(np.transpose(npimg, (1, 2, 0)))\n",
        "\n",
        "    # Display the image\n",
        "    plt.show()\n",
        "\n",
        "# Get some random training images\n",
        "dataiter = iter(trainloader)\n",
        "images, labels = next(dataiter)\n",
        "\n",
        "# Show the images using the imshow function\n",
        "imshow(torchvision.utils.make_grid(images))\n",
        "\n",
        "# Print labels\n",
        "print('Labels:', ' '.join(f'{classes[labels[j]]:5s}' for j in range(batch_size)))"
      ]
    },
    {
      "cell_type": "markdown",
      "metadata": {
        "id": "l62CkyIwtSOv"
      },
      "source": [
        "TODO: Define a simple CNN that classifies CIFAR images."
      ]
    },
    {
      "cell_type": "code",
      "execution_count": null,
      "metadata": {
        "id": "9fL3F-7Rntog"
      },
      "outputs": [],
      "source": [
        "class Net(nn.Module):\n",
        "    def __init__(self):\n",
        "        super(Net, self).__init__()\n",
        "\n",
        "        # Define the layers of the neural network architecture\n",
        "\n",
        "        # First convolutional layer: 3 input channels, 6 output channels, kernel size 5x5,no bias\n",
        "        self.conv1 =\n",
        "\n",
        "        # Max pooling layer with kernel size 2x2 and stride 2\n",
        "        self.pool =\n",
        "\n",
        "        # Second convolutional layer: 6 input channels, 16 output channels, kernel size 5x5, no bias\n",
        "        self.conv2 =\n",
        "\n",
        "        # Fully connected (dense) layers\n",
        "\n",
        "        # First fully connected layer: 16*5*5 input features, 120 output features, no bias\n",
        "        self.fc1 =\n",
        "\n",
        "        # Second fully connected layer: 120 input features, 84 output features, no bias\n",
        "        self.fc2 =\n",
        "\n",
        "        # Third fully connected layer: 84 input features, 10 output features (for classification), no bias\n",
        "        self.fc3 =\n",
        "\n",
        "    def forward(self, x: torch.Tensor) -> torch.Tensor:\n",
        "        # Forward pass through the neural network\n",
        "\n",
        "        # Apply first convolutional layer, followed by ReLU activation and max pooling\n",
        "\n",
        "        # Apply second convolutional layer, followed by ReLU activation and max pooling\n",
        "\n",
        "        # The output from the convolutional and pooling layers is in the form of a\n",
        "        # 3D tensor (height, width, depth or channels).\n",
        "        # To feed this tensor into a fully connected layer,\n",
        "        # it needs to be flattened into a 1D tensor.\n",
        "        # Reshape tensor for fully connected layers\n",
        "        # A2D tensor with a shape of [batch_size, 16 * 5 * 5].\n",
        "\n",
        "        # Apply first fully connected layer, followed by ReLU activation\n",
        "\n",
        "        # Apply second fully connected layer, followed by ReLU activation\n",
        "\n",
        "        # Apply third fully connected layer (output layer)\n",
        "\n",
        "        return x\n",
        "\n",
        "# Create an instance of the neural network and move it to the specified device (e.g., GPU)\n",
        "net = Net().to(device)"
      ]
    },
    {
      "cell_type": "markdown",
      "metadata": {
        "id": "Nijieuxptag6"
      },
      "source": [
        "Train this CNN on the training dataset (this may take a few moments)."
      ]
    },
    {
      "cell_type": "code",
      "execution_count": null,
      "metadata": {
        "id": "CzK6ohj5oNCT"
      },
      "outputs": [],
      "source": [
        "def train(model: nn.Module, dataloader: DataLoader):\n",
        "    # Define the loss criterion and optimizer\n",
        "    criterion = nn.CrossEntropyLoss()  # Cross-entropy loss for classification\n",
        "    optimizer = optim.SGD(model.parameters(), lr=0.001, momentum=0.9)  # SGD optimizer with momentum\n",
        "\n",
        "    for epoch in range(2):  # Loop over the dataset for multiple epochs\n",
        "        running_loss = 0.0\n",
        "\n",
        "        # Iterate over mini-batches of data\n",
        "        for i, data in enumerate(dataloader, 0):\n",
        "            # Get the inputs; data is a list of [inputs, labels]\n",
        "            inputs, labels = data\n",
        "\n",
        "            inputs = inputs.to(device)  # Move inputs to the specified device\n",
        "            labels = labels.to(device)  # Move labels to the specified device\n",
        "\n",
        "            # Zero the gradients in the optimizer\n",
        "            optimizer.zero_grad()\n",
        "\n",
        "            # Forward pass + backward pass (backpropagation) + optimization\n",
        "            outputs = model(inputs)  # Forward pass through the model\n",
        "            loss = criterion(outputs, labels)  # Calculate the loss\n",
        "            loss.backward()  # Compute gradients\n",
        "            optimizer.step()  # Update model parameters\n",
        "\n",
        "            # Print statistics\n",
        "            running_loss += loss.item()\n",
        "            if i % 2000 == 1999:  # Print every 2000 mini-batches\n",
        "                print('[%d, %5d] loss: %.3f' %\n",
        "                    (epoch + 1, i + 1, running_loss / 2000))\n",
        "                running_loss = 0.0\n",
        "\n",
        "    print('Finished Training')  # Training loop is complete\n",
        "    PATH = os.path.join(weights_dir, 'cifar_net.pth')\n",
        "    torch.save(net.state_dict(), PATH)\n",
        "\n"
      ]
    },
    {
      "cell_type": "code",
      "execution_count": null,
      "metadata": {
        "id": "HixhBHaqtmZU"
      },
      "outputs": [],
      "source": [
        "train(net, trainloader)"
      ]
    },
    {
      "cell_type": "markdown",
      "metadata": {
        "id": "EJggxnCVuRxU"
      },
      "source": [
        "Now that the CNN has been trained, let's test it on our test dataset."
      ]
    },
    {
      "cell_type": "code",
      "execution_count": null,
      "metadata": {
        "id": "ifYWr5qFrzdc"
      },
      "outputs": [],
      "source": [
        "dataiter = iter(testloader)\n",
        "images, labels = next(dataiter)\n",
        "\n",
        "# print images\n",
        "imshow(torchvision.utils.make_grid(images))\n",
        "print('GroundTruth: ', ' '.join(f'{classes[labels[j]]:5s}' for j in range(4)))\n",
        "\n",
        "\n",
        "# net = Net()\n",
        "# net.load_state_dict(torch.load(PATH))\n",
        "net.cuda()\n",
        "images = images.cuda()\n",
        "outputs = net(images)\n",
        "_, predicted = torch.max(outputs, 1)\n",
        "\n",
        "print('Predicted: ', ' '.join(f'{classes[predicted[j]]:5s}'\n",
        "                              for j in range(4)))"
      ]
    },
    {
      "cell_type": "markdown",
      "metadata": {
        "id": "vW3U7pourwjT"
      },
      "source": [
        "Let us look at how the network performs on the whole dataset.\n"
      ]
    },
    {
      "cell_type": "code",
      "execution_count": null,
      "metadata": {
        "id": "y27_n-djuEdz"
      },
      "outputs": [],
      "source": [
        "\n",
        "# A function to evaluate the performance of a given neural network model\n",
        "# using a test dataset.\n",
        "# It calculates the accuracy of the model's predictions on the test data.\n",
        "def calculate_accuracy(model: nn.Module, dataloader: DataLoader, max_samples=None) -> float:\n",
        "    correct_predictions = 0  # Initialize the count of correctly predicted samples\n",
        "    total_samples = 0    # Initialize the count of total samples\n",
        "    inference_count = 0  # Initialize the count of inferences made\n",
        "\n",
        "    with torch.no_grad():  # Disable gradient calculation for inference\n",
        "        for batch_data in dataloader:\n",
        "            images, labels = batch_data  # Separate images and labels from the batch\n",
        "\n",
        "            images = images.to(device)  # Move images to the specified device\n",
        "            labels = labels.to(device)  # Move labels to the specified device\n",
        "\n",
        "            outputs = model(images)  # Forward pass to get model predictions\n",
        "            _, predicted = torch.max(outputs.data, 1)  # Get predicted class indices\n",
        "\n",
        "            total_samples += labels.size(0)  # Increment the total count of samples\n",
        "            correct_predictions += (predicted == labels).sum().item()  # Count correct predictions\n",
        "\n",
        "            if max_samples:  # Check if a maximum number of samples for testing is specified\n",
        "                inference_count += images.shape[0]  # Increment the count of inferences made\n",
        "                if inference_count > max_samples:  # Stop testing if maximum samples reached\n",
        "                    break\n",
        "\n",
        "    accuracy = 100 * correct_predictions / total_samples  # Calculate the accuracy as a percentage\n",
        "    return accuracy\n",
        "\n",
        "score = calculate_accuracy(net, testloader)\n",
        "print('Accuracy of the network on the test images: {}%'.format(score))"
      ]
    },
    {
      "cell_type": "markdown",
      "metadata": {
        "id": "SQZoEjBSveV8"
      },
      "source": [
        "## Question 1: Visualize Weights\n",
        "\n",
        "Write a function that takes one layer of our network and plots the historgram of its paramters. Use this signature:\n",
        "\n",
        "```python\n",
        "def analyze_layer_weights(layer: nn.Module):\n",
        "```"
      ]
    },
    {
      "cell_type": "code",
      "execution_count": null,
      "metadata": {
        "id": "PoySOC4WDk5F"
      },
      "outputs": [],
      "source": [
        "def analyze_layer_weights(layer: nn.Module):\n",
        "    # Extract and flatten the weights of the given layer\n",
        "    layer_weights = layer.weight.data.cpu().view(-1)\n",
        "\n",
        "    # Get layer type (Conv2d or Linear) for better title\n",
        "    layer_type = type(layer).__name__\n",
        "\n",
        "    # Plot a histogram of the flattened layer weights\n",
        "    plt.hist(layer_weights, density=True, bins=50)\n",
        "    plt.title(f\"{layer_type} Layer Weights Histogram\")\n",
        "    plt.xlabel(\"Weight Value\")\n",
        "    plt.ylabel(\"Density\")\n",
        "    plt.show()\n",
        "\n",
        "    # Calculate the upper and lower bounds of the range within 3 standard deviations\n",
        "    layer_weights_3sigma_max = (layer_weights.mean() + 3 * layer_weights.std()).item()\n",
        "    layer_weights_3sigma_min = (layer_weights.mean() - 3 * layer_weights.std()).item()\n",
        "\n",
        "    # Calculate the range of weights and the 3-sigma range for the layer\n",
        "    weight_range = layer_weights.max() - layer_weights.min()\n",
        "    sigma_range = layer_weights_3sigma_max - layer_weights_3sigma_min\n",
        "\n",
        "    print(f\"{layer_type} Layer Weight Range: {weight_range.item()}\")\n",
        "    print(f\"{layer_type} Layer 3-Sigma Range: {sigma_range}\")"
      ]
    },
    {
      "cell_type": "code",
      "execution_count": null,
      "metadata": {
        "id": "7qv8ZLXiDgrf"
      },
      "outputs": [],
      "source": [
        "analyze_layer_weights(net.conv1)"
      ]
    },
    {
      "cell_type": "code",
      "execution_count": null,
      "metadata": {
        "id": "5xjQyehq5lA4"
      },
      "outputs": [],
      "source": [
        "analyze_layer_weights(net.conv2)"
      ]
    },
    {
      "cell_type": "code",
      "execution_count": null,
      "metadata": {
        "id": "j9CnTZCD5lmn"
      },
      "outputs": [],
      "source": [
        "analyze_layer_weights(net.fc1)"
      ]
    },
    {
      "cell_type": "code",
      "execution_count": null,
      "metadata": {
        "id": "VYWkOW145mJE"
      },
      "outputs": [],
      "source": [
        "analyze_layer_weights(net.fc2)"
      ]
    },
    {
      "cell_type": "code",
      "execution_count": null,
      "metadata": {
        "id": "v893WZ9_5wpW"
      },
      "outputs": [],
      "source": [
        "analyze_layer_weights(net.fc3)"
      ]
    },
    {
      "cell_type": "markdown",
      "metadata": {
        "id": "g2_4MK0B1f1z"
      },
      "source": [
        "## Question 2: Model Dimensions.\n",
        "TODO:\n",
        "In the CNN model we have created, how many layers have trainable weights? Please list all the dimensions of each layer's weights.\n"
      ]
    },
    {
      "cell_type": "markdown",
      "metadata": {
        "id": "Xg8xNrUe12kw"
      },
      "source": [
        "TODO: For all the layers with traiable weights, please list their input and output dimension."
      ]
    },
    {
      "cell_type": "markdown",
      "metadata": {
        "id": "omnAgQS6yfwu"
      },
      "source": [
        "TODO: For all the layers, please list their total number of multiplications and summations in both forward and backward pass."
      ]
    },
    {
      "cell_type": "markdown",
      "metadata": {
        "id": "K_UMA22B2UXa"
      },
      "source": [
        "TODO: Calculate the maximum memory requirements to run the training for this CNN model. Hint: Weights + gradients + maximum intermediate feature."
      ]
    },
    {
      "cell_type": "markdown",
      "metadata": {
        "id": "AiEzZ1gL345L"
      },
      "source": [
        "## Question 3: Model without MaxPooling2D\n",
        "TODO: remove the MaxPooling2D layer in the CNN model we have created and adjust the dimension of FC layers to have a matching layer.\n",
        "\n",
        "TODO: Evaluate the model accuracy and compare it with the CNN model with MaxPooling.\n",
        "\n",
        "TODO: repeat question 2 for the CNN model without MaxPooling2D."
      ]
    }
  ],
  "metadata": {
    "accelerator": "GPU",
    "colab": {
      "collapsed_sections": [
        "xqQLUTPfi0JZ"
      ],
      "provenance": [],
      "include_colab_link": true
    },
    "kernelspec": {
      "display_name": "Python 3",
      "name": "python3"
    }
  },
  "nbformat": 4,
  "nbformat_minor": 0
}