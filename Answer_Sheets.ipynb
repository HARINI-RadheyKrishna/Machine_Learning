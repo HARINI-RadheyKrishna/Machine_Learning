{
  "nbformat": 4,
  "nbformat_minor": 0,
  "metadata": {
    "colab": {
      "provenance": [],
      "include_colab_link": true
    },
    "kernelspec": {
      "name": "python3",
      "display_name": "Python 3"
    },
    "language_info": {
      "name": "python"
    }
  },
  "cells": [
    {
      "cell_type": "markdown",
      "metadata": {
        "id": "view-in-github",
        "colab_type": "text"
      },
      "source": [
        "<a href=\"https://colab.research.google.com/github/HARINI-RadheyKrishna/Machine_Learning/blob/master/Answer_Sheets.ipynb\" target=\"_parent\"><img src=\"https://colab.research.google.com/assets/colab-badge.svg\" alt=\"Open In Colab\"/></a>"
      ]
    },
    {
      "cell_type": "markdown",
      "source": [
        "# EE 599 Reading Assignment \\# 1:\n",
        "You can access paper using this [link](https://courses.cs.washington.edu/courses/cse550/21au/papers/CSE550.Eyeriss.pdf), do not re-distribute the paper."
      ],
      "metadata": {
        "id": "JA0rETRQZBON"
      }
    },
    {
      "cell_type": "markdown",
      "source": [
        "##Q1: (1 Point)\n",
        "\n",
        "**Disallowed** list:\n",
        "- You **MAY NOT** collaborate with anyone else on this assignment. This means you cannot talk to anyone else about the assignment until after deadline.\n",
        "- You **MAY NOT** use ChatGPT and services like that\n",
        "\n",
        "**Allowed** list:\n",
        "- Notes including any slides from the class\n",
        "- The textbooks\n",
        "- The given paper"
      ],
      "metadata": {
        "id": "s-HWWv6kaxrx"
      }
    },
    {
      "cell_type": "markdown",
      "source": [
        "##A1:\n",
        "\n",
        "I affirm I have read these exam rules and will follow them. Failure to do so may subject me to sanctions including an F in the course.\n",
        "\n",
        "**Type your full name to affirm you have read the above statement:**\n"
      ],
      "metadata": {
        "id": "Pz0uD-nHbHuT"
      }
    },
    {
      "cell_type": "markdown",
      "source": [
        "Harini Thirunavukkarasu"
      ],
      "metadata": {
        "id": "wc-IS2a3zO1l"
      }
    },
    {
      "cell_type": "markdown",
      "source": [
        "----\n",
        "## Q2.1 Summary (24 Points):\n",
        "\n",
        "Summarize the main objectives and contributions of the paper."
      ],
      "metadata": {
        "id": "XzNWLVCLbcjq"
      }
    },
    {
      "cell_type": "markdown",
      "source": [
        "##A2.1:\n",
        "\n"
      ],
      "metadata": {
        "id": "0j5A4_Zfbpra"
      }
    },
    {
      "cell_type": "markdown",
      "source": [
        "---\n",
        "## Q2.2 Comprehension (15 Points):\n",
        "- What problem is the paper addressing?\n",
        "- How does the Eyeriss architecture differ from other architectures you are familiar with?"
      ],
      "metadata": {
        "id": "IE2n5UQHbuZ-"
      }
    },
    {
      "cell_type": "markdown",
      "source": [
        "##A2.2:\n",
        "\n",
        "**Problem addressed in the paper:**\n",
        "\n",
        "The problem discussed in the paper is regarding the evaluation of performance of a Convolutional Neural Network by other authors by only considering the optimizations performed on the on-chip processor and not on the off-chip DRAM Chips.\n",
        "\n",
        "The authors of this paper putforths a valid argument that data accesses from memory are the major constituents to energy usage and hence any optimization needs to be performed on both on-chip and off-chip data structures to implement a wholesome energy model.\n",
        "\n",
        "**Differences explored in Eyeriss architecture:**\n",
        "\n",
        "  The key differences which I find to be prominent in this architecture is that the Eyeriss architecture optimizes the performance by taking into account both the on-chip and off-chip architectures of the CNN. It does this by implementing many schemes like  \n",
        "\n",
        "    --- Data reuse using weight stationary, input stationary and output\n",
        "        stationary techniques\n",
        "\n",
        "    --- Data compression\n",
        "\n",
        "    --- Data gating to remove the calculations involving zeros\n",
        "\n",
        "    --- Implementation of multiple levels of memory heirarchy to reduce\n",
        "        the data access delays\n",
        "\n",
        "\n",
        "  Another difference I observed is the presence of the RLC Coder Decoder unit to save the memory bandwidth by compression of the bits for storing purposes.\n",
        "  The accessing of data from the DRAM (or off-chip memory unit) to the GLB (Global Memory Buffer) costs us huge bandwidth requirement if the data is stored in bits having sizes of 64 bits to 32 bits. Here they use an encoding scheme to convert the 64/32 bits into 16bits thereby **cutting down the bandwidth requirement to 4 or 2 times** the original requirement."
      ],
      "metadata": {
        "id": "9O7k2DbXcNp0"
      }
    },
    {
      "cell_type": "markdown",
      "source": [
        "---\n",
        "## Q2.3 Technical Deep Dive (15 Points):\n",
        "- Describe the spatial architecture of Eyeriss in your own words.\n",
        "- How does the Eyeriss architecture optimize energy efficiency in dataflow for CNNs?\n",
        "- What are the main challenges in designing an energy-efficient architecture for CNNs, and how does Eyeriss tackle these challenges?"
      ],
      "metadata": {
        "id": "PnzcxvhWckY5"
      }
    },
    {
      "cell_type": "markdown",
      "source": [
        "## A2.3:"
      ],
      "metadata": {
        "id": "sv3rFNjpcuID"
      }
    },
    {
      "cell_type": "markdown",
      "source": [
        "---\n",
        "## Q2.4 Evaluation (15 Points):\n",
        "- What were the key results or findings of the paper? Were they compelling?\n",
        "- How do the authors validate their claims or results? Are there any weaknesses in their methodology?"
      ],
      "metadata": {
        "id": "HRBvFutTc2uh"
      }
    },
    {
      "cell_type": "markdown",
      "source": [
        "## A2.4:"
      ],
      "metadata": {
        "id": "xKUL8nhTdNLZ"
      }
    },
    {
      "cell_type": "markdown",
      "source": [
        "---\n",
        "## Q2.5 Contextual Understanding (10 Points):\n",
        "- How does this work fit into the larger context of neural network architectures and energy efficiency?\n",
        "- Can the principles of Eyeriss be applied to other deep learning architectures beyond CNNs?\n"
      ],
      "metadata": {
        "id": "Fp_FV2bzdV4D"
      }
    },
    {
      "cell_type": "markdown",
      "source": [
        "## A2.5:"
      ],
      "metadata": {
        "id": "OvpxYhvNdg18"
      }
    },
    {
      "cell_type": "markdown",
      "source": [
        "---\n",
        "## Q2.6 Discussion and Critique (10 points):\n",
        "- Are there any assumptions made by the authors that you disagree with or find questionable?\n",
        "- Do you think there are potential improvements or future directions not addressed by the authors?\n",
        "- How would you compare Eyeriss with other architectures or solutions you know of?"
      ],
      "metadata": {
        "id": "cxUpnGmtdjfX"
      }
    },
    {
      "cell_type": "markdown",
      "source": [
        "## A2.6:"
      ],
      "metadata": {
        "id": "cjAQy1qLdvZ7"
      }
    },
    {
      "cell_type": "markdown",
      "source": [
        "---\n",
        "## Q2.7 Reflection (10 Points):\n",
        "- What was the most surprising or counterintuitive thing you learned from this paper?\n",
        "- How has reading this paper influenced your views on the importance of energy efficiency in deep learning?"
      ],
      "metadata": {
        "id": "hSMCnPg8d_0S"
      }
    },
    {
      "cell_type": "markdown",
      "source": [
        "## A2.7:"
      ],
      "metadata": {
        "id": "nBtgEgPXeNR5"
      }
    },
    {
      "cell_type": "markdown",
      "source": [
        "---\n",
        "## Turn in your reading assignment by saving this answer sheet back to the Github repository."
      ],
      "metadata": {
        "id": "mnRyd9Iie6Dz"
      }
    }
  ]
}